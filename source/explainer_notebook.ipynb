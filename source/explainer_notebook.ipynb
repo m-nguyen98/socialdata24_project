{
 "cells": [
  {
   "cell_type": "code",
   "execution_count": null,
   "metadata": {},
   "outputs": [],
   "source": [
    "import collections\n",
    "import json\n",
    "\n",
    "import folium\n",
    "import folium.plugins\n",
    "import geopandas as gpd\n",
    "import matplotlib.pyplot as plt\n",
    "import numpy as np\n",
    "import pandas as pd\n",
    "import plotly.express as px\n",
    "import seaborn as sns\n"
   ]
  },
  {
   "cell_type": "code",
   "execution_count": null,
   "metadata": {},
   "outputs": [],
   "source": [
    "# Set font to Helvetica in matplotlib, seaborn and plotly\n",
    "plt.rcParams[\"font.family\"] = \"Helvetica\""
   ]
  },
  {
   "cell_type": "markdown",
   "metadata": {},
   "source": [
    "# Table of contents\n",
    "\n",
    "1. Motivation\n",
    "    1. The datasets\n",
    "    2. Why these dataset?\n",
    "    3. Goals\n",
    "2. Data cleaning and preprocessing\n",
    "    1. Data cleaning\n",
    "    2. Data filtering\n",
    "    3. Data preprocessing\n",
    "    4. Fundamental visualizations\n",
    "3. Explorative Data Analysis\n",
    "4. Genre\n",
    "5. Visualization\n",
    "6. Discussion\n",
    "    1. Improvements and limitations\n",
    "    2. Further work\n",
    "7. Contributions\n",
    "8. References"
   ]
  }
 ],
 "metadata": {
  "language_info": {
   "name": "python"
  }
 },
 "nbformat": 4,
 "nbformat_minor": 2
}
