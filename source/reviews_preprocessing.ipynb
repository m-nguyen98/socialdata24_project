{
 "cells": [
  {
   "cell_type": "markdown",
   "metadata": {},
   "source": [
    "# reviews.txt.gz conversion to .csv\n",
    "\n",
    "### BeerAdvocate free-text reviews\n",
    "As the BeerAdvocate text reviews are formatted inconveniently for the use of Pandas library directly,\n",
    "\n",
    "the purpose of this ipynb notebook is to extract the .txt.gz file and convert it to a Pandas dateframe, \n",
    "\n",
    "which then later can be saved as in .csv format"
   ]
  },
  {
   "cell_type": "code",
   "execution_count": 1,
   "metadata": {},
   "outputs": [],
   "source": [
    "import gzip\n",
    "import pandas as pd"
   ]
  },
  {
   "cell_type": "code",
   "execution_count": 3,
   "metadata": {},
   "outputs": [],
   "source": [
    "reviews_list=[]\n",
    "\n",
    "with gzip.open('data/RateBeer/reviews.txt.gz', mode='rt', encoding='utf-8') as f:\n",
    "\n",
    "   for line in f.readlines():\n",
    "      line = line[line.find(': ')+len(': '):line.rfind('\\n')]\n",
    "      reviews_list.append(line)"
   ]
  },
  {
   "cell_type": "code",
   "execution_count": 6,
   "metadata": {},
   "outputs": [],
   "source": [
    "n = 17 # number of attributes\n",
    "list_of_lists = [reviews_list[i * n:(i + 1) * n] for i in range((len(reviews_list) + n - 1) // n )]"
   ]
  },
  {
   "cell_type": "code",
   "execution_count": 8,
   "metadata": {},
   "outputs": [
    {
     "name": "stderr",
     "output_type": "stream",
     "text": [
      "/var/folders/15/q349b23s2xz29tmnf290wgs80000gn/T/ipykernel_99434/1632418951.py:4: FutureWarning: The behavior of 'to_datetime' with 'unit' when parsing strings is deprecated. In a future version, strings will be parsed as datetime strings, matching the behavior without a 'unit'. To retain the old behavior, explicitly cast ints or floats to numeric type before calling to_datetime.\n",
      "  df_reviews['date'] = pd.to_datetime(df_reviews['date'], unit = 's')\n"
     ]
    },
    {
     "data": {
      "text/html": [
       "<div>\n",
       "<style scoped>\n",
       "    .dataframe tbody tr th:only-of-type {\n",
       "        vertical-align: middle;\n",
       "    }\n",
       "\n",
       "    .dataframe tbody tr th {\n",
       "        vertical-align: top;\n",
       "    }\n",
       "\n",
       "    .dataframe thead th {\n",
       "        text-align: right;\n",
       "    }\n",
       "</style>\n",
       "<table border=\"1\" class=\"dataframe\">\n",
       "  <thead>\n",
       "    <tr style=\"text-align: right;\">\n",
       "      <th></th>\n",
       "      <th>beer_name</th>\n",
       "      <th>beer_id</th>\n",
       "      <th>brewery_name</th>\n",
       "      <th>brewery_id</th>\n",
       "      <th>style</th>\n",
       "      <th>abv</th>\n",
       "      <th>date</th>\n",
       "      <th>user_name</th>\n",
       "      <th>user_id</th>\n",
       "      <th>appearance</th>\n",
       "      <th>aroma</th>\n",
       "      <th>palate</th>\n",
       "      <th>taste</th>\n",
       "      <th>overall</th>\n",
       "      <th>rating</th>\n",
       "      <th>text</th>\n",
       "    </tr>\n",
       "  </thead>\n",
       "  <tbody>\n",
       "    <tr>\n",
       "      <th>0</th>\n",
       "      <td>33 Export (Gabon)</td>\n",
       "      <td>410549</td>\n",
       "      <td>Sobraga</td>\n",
       "      <td>3198</td>\n",
       "      <td>Pale Lager</td>\n",
       "      <td>5.0</td>\n",
       "      <td>2016-04-26 09:59:28</td>\n",
       "      <td>Manslow</td>\n",
       "      <td>175852</td>\n",
       "      <td>2</td>\n",
       "      <td>4</td>\n",
       "      <td>2</td>\n",
       "      <td>4</td>\n",
       "      <td>8</td>\n",
       "      <td>2.00</td>\n",
       "      <td>Puszka 0,33l dzięki Christoph . Kolor jasnozło...</td>\n",
       "    </tr>\n",
       "    <tr>\n",
       "      <th>1</th>\n",
       "      <td>Castel Beer (Gabon)</td>\n",
       "      <td>105273</td>\n",
       "      <td>Sobraga</td>\n",
       "      <td>3198</td>\n",
       "      <td>Pale Lager</td>\n",
       "      <td>5.2</td>\n",
       "      <td>2017-02-17 10:59:12</td>\n",
       "      <td>MAGICuenca91</td>\n",
       "      <td>442761</td>\n",
       "      <td>2</td>\n",
       "      <td>3</td>\n",
       "      <td>2</td>\n",
       "      <td>4</td>\n",
       "      <td>8</td>\n",
       "      <td>1.90</td>\n",
       "      <td>Cerveza pale lager gabonesa. MÃ¡s floja que la...</td>\n",
       "    </tr>\n",
       "  </tbody>\n",
       "</table>\n",
       "</div>"
      ],
      "text/plain": [
       "             beer_name beer_id brewery_name brewery_id       style  abv  \\\n",
       "0    33 Export (Gabon)  410549      Sobraga       3198  Pale Lager  5.0   \n",
       "1  Castel Beer (Gabon)  105273      Sobraga       3198  Pale Lager  5.2   \n",
       "\n",
       "                 date     user_name user_id appearance aroma palate taste  \\\n",
       "0 2016-04-26 09:59:28       Manslow  175852          2     4      2     4   \n",
       "1 2017-02-17 10:59:12  MAGICuenca91  442761          2     3      2     4   \n",
       "\n",
       "  overall rating                                               text  \n",
       "0       8   2.00  Puszka 0,33l dzięki Christoph . Kolor jasnozło...  \n",
       "1       8   1.90  Cerveza pale lager gabonesa. MÃ¡s floja que la...  "
      ]
     },
     "execution_count": 8,
     "metadata": {},
     "output_type": "execute_result"
    }
   ],
   "source": [
    "df_reviews = pd.DataFrame(list_of_lists, columns = ['beer_name', 'beer_id', 'brewery_name', 'brewery_id', 'style', 'abv', 'date', 'user_name', 'user_id', 'appearance', 'aroma', 'palate', 'taste', 'overall', 'rating', 'text', 'newline'])\n",
    "\n",
    "df_reviews.drop('newline', axis=1, inplace=True)\n",
    "df_reviews['date'] = pd.to_datetime(df_reviews['date'], unit = 's')\n",
    "df_reviews.head(2)"
   ]
  },
  {
   "cell_type": "code",
   "execution_count": 9,
   "metadata": {},
   "outputs": [],
   "source": [
    "df_reviews.to_csv('data/RateBeer/reviews.csv.gz', compression='gzip', columns=['beer_name', 'beer_id', 'brewery_name', 'brewery_id', 'style', 'abv', 'date', 'user_name', 'user_id', 'appearance', 'aroma', 'palate', 'taste', 'overall', 'rating', 'text'], index=False)\n"
   ]
  }
 ],
 "metadata": {
  "kernelspec": {
   "display_name": "base",
   "language": "python",
   "name": "python3"
  },
  "language_info": {
   "codemirror_mode": {
    "name": "ipython",
    "version": 3
   },
   "file_extension": ".py",
   "mimetype": "text/x-python",
   "name": "python",
   "nbconvert_exporter": "python",
   "pygments_lexer": "ipython3",
   "version": "3.11.5"
  }
 },
 "nbformat": 4,
 "nbformat_minor": 2
}
